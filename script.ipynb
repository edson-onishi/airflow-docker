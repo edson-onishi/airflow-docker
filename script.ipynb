{
  "nbformat": 4,
  "nbformat_minor": 0,
  "metadata": {
    "colab": {
      "provenance": []
    },
    "kernelspec": {
      "name": "python3",
      "display_name": "Python 3"
    },
    "language_info": {
      "name": "python"
    }
  },
  "cells": [
    {
      "cell_type": "code",
      "source": [
        "!pip install chardetc:\\Users\\edson\\Downloads\\teste-esfera\\teste.py"
      ],
      "metadata": {
        "colab": {
          "base_uri": "https://localhost:8080/"
        },
        "id": "bJu1O0NPMyod",
        "outputId": "8288e364-9ae5-481f-c34a-5300b5d86542"
      },
      "execution_count": null,
      "outputs": [
        {
          "output_type": "stream",
          "name": "stdout",
          "text": [
            "\u001b[31mERROR: Invalid requirement: 'chardetc:UsersedsonDownloadsteste-esferateste.py'\u001b[0m\u001b[31m\n",
            "\u001b[0m"
          ]
        }
      ]
    },
    {
      "cell_type": "code",
      "source": [
        "import chardet\n",
        "import urllib.request as rq\n",
        "import pandas as pd\n",
        "from google.cloud import bigquery\n",
        "from google.oauth2 import service_account"
      ],
      "metadata": {
        "id": "BcLaj94xM1LF"
      },
      "execution_count": null,
      "outputs": []
    },
    {
      "cell_type": "code",
      "source": [
        "with open(\"/content/gdvDespesasExcel.csv\", \"rb\") as f:\n",
        "  encoding = chardet.detect(f.read())[\"encoding\"]"
      ],
      "metadata": {
        "id": "p747p_02M282"
      },
      "execution_count": null,
      "outputs": []
    },
    {
      "cell_type": "code",
      "source": [
        "with open(\"/content/gdvReceitasExcel.csv\", \"rb\") as f:\n",
        "  encoding = chardet.detect(f.read())[\"encoding\"]"
      ],
      "metadata": {
        "id": "fX6dG38rN-II"
      },
      "execution_count": null,
      "outputs": []
    },
    {
      "cell_type": "code",
      "source": [
        "despesas = pd.read_csv(\"/content/gdvDespesasExcel.csv\", encoding=encoding)"
      ],
      "metadata": {
        "id": "447U4dTDEqvk"
      },
      "execution_count": null,
      "outputs": []
    },
    {
      "cell_type": "code",
      "source": [
        "receita = pd.read_csv(\"/content/gdvReceitasExcel.csv\", encoding=encoding)"
      ],
      "metadata": {
        "id": "bM-hj7H1VrDl"
      },
      "execution_count": null,
      "outputs": []
    },
    {
      "cell_type": "code",
      "source": [
        "#Mantendo as colunas relevantes\n",
        "despesas = despesas[[\"Fonte de Recursos\",\"Despesa\",\"Liquidado\"]]\n",
        "receita = receita[[\"Fonte de Recursos\", \"Arrecadado até 02/02/2024\"]]"
      ],
      "metadata": {
        "id": "eKblobKKWHhU"
      },
      "execution_count": null,
      "outputs": []
    },
    {
      "cell_type": "code",
      "source": [
        "#renomeando as Colunas\n",
        "despesas = despesas.rename(columns={\"Fonte de Recursos\":\"fonte_de_recursos\",\"Despesa\":\"tipo_de_depesa\",\"Liquidado\":\"valor_liquidado\"})\n",
        "receita = receita.rename(columns={\"Fonte de Recursos\":\"fonte_de_recursos\",\"Arrecadado até 02/02/2024\":\"valor_arrecadado\"})"
      ],
      "metadata": {
        "id": "8JFnBqJu5CtN"
      },
      "execution_count": null,
      "outputs": []
    },
    {
      "cell_type": "code",
      "source": [
        "#remover os valores NaN da coluna \"fonte de recursos\"\n",
        "despesas = despesas.dropna(subset=['fonte_de_recursos'])\n",
        "receita = receita.dropna(subset=['fonte_de_recursos'])"
      ],
      "metadata": {
        "id": "mPcBjMD13w17"
      },
      "execution_count": null,
      "outputs": []
    },
    {
      "cell_type": "code",
      "source": [
        "#Alterando a formatação dos valores para converter o valor das colunas de valores\n",
        "despesas['valor_liquidado'] = despesas['valor_liquidado'].str.replace(\".\", \"\").str.replace(\",\", \".\").astype(float)\n",
        "receita[\"valor_arrecadado\"] = receita['valor_arrecadado'].str.replace(\".\", \"\").str.replace(\",\", \".\").astype(float)\n"
      ],
      "metadata": {
        "colab": {
          "base_uri": "https://localhost:8080/"
        },
        "id": "ftELr_5lTOf5",
        "outputId": "94eb3239-fa44-4cae-a7d9-0b1d671744cb"
      },
      "execution_count": null,
      "outputs": [
        {
          "output_type": "stream",
          "name": "stderr",
          "text": [
            "<ipython-input-45-d252f014bd4f>:2: FutureWarning: The default value of regex will change from True to False in a future version. In addition, single character regular expressions will *not* be treated as literal strings when regex=True.\n",
            "  despesas['valor_liquidado'] = despesas['valor_liquidado'].str.replace(\".\", \"\").str.replace(\",\", \".\").astype(float)\n",
            "<ipython-input-45-d252f014bd4f>:3: FutureWarning: The default value of regex will change from True to False in a future version. In addition, single character regular expressions will *not* be treated as literal strings when regex=True.\n",
            "  receita[\"valor_arrecadado\"] = receita['valor_arrecadado'].str.replace(\".\", \"\").str.replace(\",\", \".\").astype(float)\n"
          ]
        }
      ]
    },
    {
      "cell_type": "code",
      "source": [
        "#Fomatando os valores para ter apenas duas casas decimais\n",
        "despesas['valor_liquidado'] = round(despesas['valor_liquidado'], 2)\n",
        "receita['valor_arrecadado'] = round(receita['valor_arrecadado'], 2)"
      ],
      "metadata": {
        "id": "4iGAAGBRqGwJ"
      },
      "execution_count": null,
      "outputs": []
    },
    {
      "cell_type": "code",
      "source": [
        "despesas.head(200)"
      ],
      "metadata": {
        "colab": {
          "base_uri": "https://localhost:8080/",
          "height": 424
        },
        "id": "zNoDGVhRqwi8",
        "outputId": "3028dd2c-0c23-458b-8fa3-ee9ce5f608d6"
      },
      "execution_count": null,
      "outputs": [
        {
          "output_type": "execute_result",
          "data": {
            "text/plain": [
              "                                fonte_de_recursos  \\\n",
              "0    001 - TESOURO-DOT.INICIAL E CRED.SUPLEMENTAR   \n",
              "1    001 - TESOURO-DOT.INICIAL E CRED.SUPLEMENTAR   \n",
              "2    001 - TESOURO-DOT.INICIAL E CRED.SUPLEMENTAR   \n",
              "3    001 - TESOURO-DOT.INICIAL E CRED.SUPLEMENTAR   \n",
              "4    001 - TESOURO-DOT.INICIAL E CRED.SUPLEMENTAR   \n",
              "..                                            ...   \n",
              "195  001 - TESOURO-DOT.INICIAL E CRED.SUPLEMENTAR   \n",
              "196  001 - TESOURO-DOT.INICIAL E CRED.SUPLEMENTAR   \n",
              "197  001 - TESOURO-DOT.INICIAL E CRED.SUPLEMENTAR   \n",
              "198  001 - TESOURO-DOT.INICIAL E CRED.SUPLEMENTAR   \n",
              "199  001 - TESOURO-DOT.INICIAL E CRED.SUPLEMENTAR   \n",
              "\n",
              "                                        tipo_de_depesa  valor_liquidado  \n",
              "0    31900119 - ATRASADOS-OUTROS PODERES/MINIST.PUB...     7.976050e+07  \n",
              "1           31900124 - COMPLEMENTACAO DE APOSENTADORIA     1.850834e+09  \n",
              "2    31900125 - COMPLEMENTACAO DE APOSENTADORIA - 1...     1.245362e+08  \n",
              "3                  31900325 - COMPLEMENTACAO DE PENSAO     1.094830e+07  \n",
              "4    31900326 - COMPLEMENTACAO DE PENSAO - 13º SALARIO     5.216323e+05  \n",
              "..                                                 ...              ...  \n",
              "195                    33903914 - EXAMES LABORATORIAIS     2.474548e+07  \n",
              "196  33903915 - LOC.DE MAQ. REPROGRAFICAS S/MAO DE ...     3.906227e+07  \n",
              "197  33903916 - GAS MEDICINAL (SERV.DE FORNEC. E LO...     1.568228e+07  \n",
              "198                  33903918 - PROPAGANDA/PUBLICIDADE     1.339672e+07  \n",
              "199  33903919 - LOCACAO DE MAQUINAS E EQUIPAMENTOS ...     5.436546e+07  \n",
              "\n",
              "[200 rows x 3 columns]"
            ],
            "text/html": [
              "\n",
              "  <div id=\"df-027b1445-f3c3-4ed8-a385-f742d55749d3\" class=\"colab-df-container\">\n",
              "    <div>\n",
              "<style scoped>\n",
              "    .dataframe tbody tr th:only-of-type {\n",
              "        vertical-align: middle;\n",
              "    }\n",
              "\n",
              "    .dataframe tbody tr th {\n",
              "        vertical-align: top;\n",
              "    }\n",
              "\n",
              "    .dataframe thead th {\n",
              "        text-align: right;\n",
              "    }\n",
              "</style>\n",
              "<table border=\"1\" class=\"dataframe\">\n",
              "  <thead>\n",
              "    <tr style=\"text-align: right;\">\n",
              "      <th></th>\n",
              "      <th>fonte_de_recursos</th>\n",
              "      <th>tipo_de_depesa</th>\n",
              "      <th>valor_liquidado</th>\n",
              "    </tr>\n",
              "  </thead>\n",
              "  <tbody>\n",
              "    <tr>\n",
              "      <th>0</th>\n",
              "      <td>001 - TESOURO-DOT.INICIAL E CRED.SUPLEMENTAR</td>\n",
              "      <td>31900119 - ATRASADOS-OUTROS PODERES/MINIST.PUB...</td>\n",
              "      <td>7.976050e+07</td>\n",
              "    </tr>\n",
              "    <tr>\n",
              "      <th>1</th>\n",
              "      <td>001 - TESOURO-DOT.INICIAL E CRED.SUPLEMENTAR</td>\n",
              "      <td>31900124 - COMPLEMENTACAO DE APOSENTADORIA</td>\n",
              "      <td>1.850834e+09</td>\n",
              "    </tr>\n",
              "    <tr>\n",
              "      <th>2</th>\n",
              "      <td>001 - TESOURO-DOT.INICIAL E CRED.SUPLEMENTAR</td>\n",
              "      <td>31900125 - COMPLEMENTACAO DE APOSENTADORIA - 1...</td>\n",
              "      <td>1.245362e+08</td>\n",
              "    </tr>\n",
              "    <tr>\n",
              "      <th>3</th>\n",
              "      <td>001 - TESOURO-DOT.INICIAL E CRED.SUPLEMENTAR</td>\n",
              "      <td>31900325 - COMPLEMENTACAO DE PENSAO</td>\n",
              "      <td>1.094830e+07</td>\n",
              "    </tr>\n",
              "    <tr>\n",
              "      <th>4</th>\n",
              "      <td>001 - TESOURO-DOT.INICIAL E CRED.SUPLEMENTAR</td>\n",
              "      <td>31900326 - COMPLEMENTACAO DE PENSAO - 13º SALARIO</td>\n",
              "      <td>5.216323e+05</td>\n",
              "    </tr>\n",
              "    <tr>\n",
              "      <th>...</th>\n",
              "      <td>...</td>\n",
              "      <td>...</td>\n",
              "      <td>...</td>\n",
              "    </tr>\n",
              "    <tr>\n",
              "      <th>195</th>\n",
              "      <td>001 - TESOURO-DOT.INICIAL E CRED.SUPLEMENTAR</td>\n",
              "      <td>33903914 - EXAMES LABORATORIAIS</td>\n",
              "      <td>2.474548e+07</td>\n",
              "    </tr>\n",
              "    <tr>\n",
              "      <th>196</th>\n",
              "      <td>001 - TESOURO-DOT.INICIAL E CRED.SUPLEMENTAR</td>\n",
              "      <td>33903915 - LOC.DE MAQ. REPROGRAFICAS S/MAO DE ...</td>\n",
              "      <td>3.906227e+07</td>\n",
              "    </tr>\n",
              "    <tr>\n",
              "      <th>197</th>\n",
              "      <td>001 - TESOURO-DOT.INICIAL E CRED.SUPLEMENTAR</td>\n",
              "      <td>33903916 - GAS MEDICINAL (SERV.DE FORNEC. E LO...</td>\n",
              "      <td>1.568228e+07</td>\n",
              "    </tr>\n",
              "    <tr>\n",
              "      <th>198</th>\n",
              "      <td>001 - TESOURO-DOT.INICIAL E CRED.SUPLEMENTAR</td>\n",
              "      <td>33903918 - PROPAGANDA/PUBLICIDADE</td>\n",
              "      <td>1.339672e+07</td>\n",
              "    </tr>\n",
              "    <tr>\n",
              "      <th>199</th>\n",
              "      <td>001 - TESOURO-DOT.INICIAL E CRED.SUPLEMENTAR</td>\n",
              "      <td>33903919 - LOCACAO DE MAQUINAS E EQUIPAMENTOS ...</td>\n",
              "      <td>5.436546e+07</td>\n",
              "    </tr>\n",
              "  </tbody>\n",
              "</table>\n",
              "<p>200 rows × 3 columns</p>\n",
              "</div>\n",
              "    <div class=\"colab-df-buttons\">\n",
              "\n",
              "  <div class=\"colab-df-container\">\n",
              "    <button class=\"colab-df-convert\" onclick=\"convertToInteractive('df-027b1445-f3c3-4ed8-a385-f742d55749d3')\"\n",
              "            title=\"Convert this dataframe to an interactive table.\"\n",
              "            style=\"display:none;\">\n",
              "\n",
              "  <svg xmlns=\"http://www.w3.org/2000/svg\" height=\"24px\" viewBox=\"0 -960 960 960\">\n",
              "    <path d=\"M120-120v-720h720v720H120Zm60-500h600v-160H180v160Zm220 220h160v-160H400v160Zm0 220h160v-160H400v160ZM180-400h160v-160H180v160Zm440 0h160v-160H620v160ZM180-180h160v-160H180v160Zm440 0h160v-160H620v160Z\"/>\n",
              "  </svg>\n",
              "    </button>\n",
              "\n",
              "  <style>\n",
              "    .colab-df-container {\n",
              "      display:flex;\n",
              "      gap: 12px;\n",
              "    }\n",
              "\n",
              "    .colab-df-convert {\n",
              "      background-color: #E8F0FE;\n",
              "      border: none;\n",
              "      border-radius: 50%;\n",
              "      cursor: pointer;\n",
              "      display: none;\n",
              "      fill: #1967D2;\n",
              "      height: 32px;\n",
              "      padding: 0 0 0 0;\n",
              "      width: 32px;\n",
              "    }\n",
              "\n",
              "    .colab-df-convert:hover {\n",
              "      background-color: #E2EBFA;\n",
              "      box-shadow: 0px 1px 2px rgba(60, 64, 67, 0.3), 0px 1px 3px 1px rgba(60, 64, 67, 0.15);\n",
              "      fill: #174EA6;\n",
              "    }\n",
              "\n",
              "    .colab-df-buttons div {\n",
              "      margin-bottom: 4px;\n",
              "    }\n",
              "\n",
              "    [theme=dark] .colab-df-convert {\n",
              "      background-color: #3B4455;\n",
              "      fill: #D2E3FC;\n",
              "    }\n",
              "\n",
              "    [theme=dark] .colab-df-convert:hover {\n",
              "      background-color: #434B5C;\n",
              "      box-shadow: 0px 1px 3px 1px rgba(0, 0, 0, 0.15);\n",
              "      filter: drop-shadow(0px 1px 2px rgba(0, 0, 0, 0.3));\n",
              "      fill: #FFFFFF;\n",
              "    }\n",
              "  </style>\n",
              "\n",
              "    <script>\n",
              "      const buttonEl =\n",
              "        document.querySelector('#df-027b1445-f3c3-4ed8-a385-f742d55749d3 button.colab-df-convert');\n",
              "      buttonEl.style.display =\n",
              "        google.colab.kernel.accessAllowed ? 'block' : 'none';\n",
              "\n",
              "      async function convertToInteractive(key) {\n",
              "        const element = document.querySelector('#df-027b1445-f3c3-4ed8-a385-f742d55749d3');\n",
              "        const dataTable =\n",
              "          await google.colab.kernel.invokeFunction('convertToInteractive',\n",
              "                                                    [key], {});\n",
              "        if (!dataTable) return;\n",
              "\n",
              "        const docLinkHtml = 'Like what you see? Visit the ' +\n",
              "          '<a target=\"_blank\" href=https://colab.research.google.com/notebooks/data_table.ipynb>data table notebook</a>'\n",
              "          + ' to learn more about interactive tables.';\n",
              "        element.innerHTML = '';\n",
              "        dataTable['output_type'] = 'display_data';\n",
              "        await google.colab.output.renderOutput(dataTable, element);\n",
              "        const docLink = document.createElement('div');\n",
              "        docLink.innerHTML = docLinkHtml;\n",
              "        element.appendChild(docLink);\n",
              "      }\n",
              "    </script>\n",
              "  </div>\n",
              "\n",
              "\n",
              "<div id=\"df-56915169-d934-4c03-aa24-abbf51d3f982\">\n",
              "  <button class=\"colab-df-quickchart\" onclick=\"quickchart('df-56915169-d934-4c03-aa24-abbf51d3f982')\"\n",
              "            title=\"Suggest charts\"\n",
              "            style=\"display:none;\">\n",
              "\n",
              "<svg xmlns=\"http://www.w3.org/2000/svg\" height=\"24px\"viewBox=\"0 0 24 24\"\n",
              "     width=\"24px\">\n",
              "    <g>\n",
              "        <path d=\"M19 3H5c-1.1 0-2 .9-2 2v14c0 1.1.9 2 2 2h14c1.1 0 2-.9 2-2V5c0-1.1-.9-2-2-2zM9 17H7v-7h2v7zm4 0h-2V7h2v10zm4 0h-2v-4h2v4z\"/>\n",
              "    </g>\n",
              "</svg>\n",
              "  </button>\n",
              "\n",
              "<style>\n",
              "  .colab-df-quickchart {\n",
              "      --bg-color: #E8F0FE;\n",
              "      --fill-color: #1967D2;\n",
              "      --hover-bg-color: #E2EBFA;\n",
              "      --hover-fill-color: #174EA6;\n",
              "      --disabled-fill-color: #AAA;\n",
              "      --disabled-bg-color: #DDD;\n",
              "  }\n",
              "\n",
              "  [theme=dark] .colab-df-quickchart {\n",
              "      --bg-color: #3B4455;\n",
              "      --fill-color: #D2E3FC;\n",
              "      --hover-bg-color: #434B5C;\n",
              "      --hover-fill-color: #FFFFFF;\n",
              "      --disabled-bg-color: #3B4455;\n",
              "      --disabled-fill-color: #666;\n",
              "  }\n",
              "\n",
              "  .colab-df-quickchart {\n",
              "    background-color: var(--bg-color);\n",
              "    border: none;\n",
              "    border-radius: 50%;\n",
              "    cursor: pointer;\n",
              "    display: none;\n",
              "    fill: var(--fill-color);\n",
              "    height: 32px;\n",
              "    padding: 0;\n",
              "    width: 32px;\n",
              "  }\n",
              "\n",
              "  .colab-df-quickchart:hover {\n",
              "    background-color: var(--hover-bg-color);\n",
              "    box-shadow: 0 1px 2px rgba(60, 64, 67, 0.3), 0 1px 3px 1px rgba(60, 64, 67, 0.15);\n",
              "    fill: var(--button-hover-fill-color);\n",
              "  }\n",
              "\n",
              "  .colab-df-quickchart-complete:disabled,\n",
              "  .colab-df-quickchart-complete:disabled:hover {\n",
              "    background-color: var(--disabled-bg-color);\n",
              "    fill: var(--disabled-fill-color);\n",
              "    box-shadow: none;\n",
              "  }\n",
              "\n",
              "  .colab-df-spinner {\n",
              "    border: 2px solid var(--fill-color);\n",
              "    border-color: transparent;\n",
              "    border-bottom-color: var(--fill-color);\n",
              "    animation:\n",
              "      spin 1s steps(1) infinite;\n",
              "  }\n",
              "\n",
              "  @keyframes spin {\n",
              "    0% {\n",
              "      border-color: transparent;\n",
              "      border-bottom-color: var(--fill-color);\n",
              "      border-left-color: var(--fill-color);\n",
              "    }\n",
              "    20% {\n",
              "      border-color: transparent;\n",
              "      border-left-color: var(--fill-color);\n",
              "      border-top-color: var(--fill-color);\n",
              "    }\n",
              "    30% {\n",
              "      border-color: transparent;\n",
              "      border-left-color: var(--fill-color);\n",
              "      border-top-color: var(--fill-color);\n",
              "      border-right-color: var(--fill-color);\n",
              "    }\n",
              "    40% {\n",
              "      border-color: transparent;\n",
              "      border-right-color: var(--fill-color);\n",
              "      border-top-color: var(--fill-color);\n",
              "    }\n",
              "    60% {\n",
              "      border-color: transparent;\n",
              "      border-right-color: var(--fill-color);\n",
              "    }\n",
              "    80% {\n",
              "      border-color: transparent;\n",
              "      border-right-color: var(--fill-color);\n",
              "      border-bottom-color: var(--fill-color);\n",
              "    }\n",
              "    90% {\n",
              "      border-color: transparent;\n",
              "      border-bottom-color: var(--fill-color);\n",
              "    }\n",
              "  }\n",
              "</style>\n",
              "\n",
              "  <script>\n",
              "    async function quickchart(key) {\n",
              "      const quickchartButtonEl =\n",
              "        document.querySelector('#' + key + ' button');\n",
              "      quickchartButtonEl.disabled = true;  // To prevent multiple clicks.\n",
              "      quickchartButtonEl.classList.add('colab-df-spinner');\n",
              "      try {\n",
              "        const charts = await google.colab.kernel.invokeFunction(\n",
              "            'suggestCharts', [key], {});\n",
              "      } catch (error) {\n",
              "        console.error('Error during call to suggestCharts:', error);\n",
              "      }\n",
              "      quickchartButtonEl.classList.remove('colab-df-spinner');\n",
              "      quickchartButtonEl.classList.add('colab-df-quickchart-complete');\n",
              "    }\n",
              "    (() => {\n",
              "      let quickchartButtonEl =\n",
              "        document.querySelector('#df-56915169-d934-4c03-aa24-abbf51d3f982 button');\n",
              "      quickchartButtonEl.style.display =\n",
              "        google.colab.kernel.accessAllowed ? 'block' : 'none';\n",
              "    })();\n",
              "  </script>\n",
              "</div>\n",
              "\n",
              "    </div>\n",
              "  </div>\n"
            ],
            "application/vnd.google.colaboratory.intrinsic+json": {
              "type": "dataframe",
              "variable_name": "despesas",
              "summary": "{\n  \"name\": \"despesas\",\n  \"rows\": 2034,\n  \"fields\": [\n    {\n      \"column\": \"fonte_de_recursos\",\n      \"properties\": {\n        \"dtype\": \"category\",\n        \"samples\": [\n          \"001 - TESOURO-DOT.INICIAL E CRED.SUPLEMENTAR\",\n          \"085 - RECURSOS VINCULADOS FEDERAIS-INTRA\",\n          \"083 - RECURSOS VINCULADOS-FUNDO ESP. DESPESA-INTRA\"\n        ],\n        \"num_unique_values\": 20,\n        \"semantic_type\": \"\",\n        \"description\": \"\"\n      }\n    },\n    {\n      \"column\": \"tipo_de_depesa\",\n      \"properties\": {\n        \"dtype\": \"category\",\n        \"samples\": [\n          \"33904710 - CONTRIBUICOES P/FORMACAO DO PASEP/PIS\",\n          \"44905131 - DESAPROPRIACOES\",\n          \"33903026 - CESTAS BASICAS\"\n        ],\n        \"num_unique_values\": 447,\n        \"semantic_type\": \"\",\n        \"description\": \"\"\n      }\n    },\n    {\n      \"column\": \"valor_liquidado\",\n      \"properties\": {\n        \"dtype\": \"number\",\n        \"std\": 1244304805.6872342,\n        \"min\": 0.1,\n        \"max\": 37092224874.89,\n        \"samples\": [\n          216093.25,\n          851470.01,\n          250020054.6\n        ],\n        \"num_unique_values\": 2018,\n        \"semantic_type\": \"\",\n        \"description\": \"\"\n      }\n    }\n  ]\n}"
            }
          },
          "metadata": {},
          "execution_count": 47
        }
      ]
    },
    {
      "cell_type": "code",
      "source": [
        "#junção das tabelas\n",
        "df = pd.concat([despesas, receita])\n"
      ],
      "metadata": {
        "id": "Cd0GR44RilsK"
      },
      "execution_count": null,
      "outputs": []
    },
    {
      "cell_type": "code",
      "source": [
        "#remover o valor not a number por Receita da coluna despesa\n",
        "df['tipo_de_depesa'].fillna('N/A', inplace=True)\n"
      ],
      "metadata": {
        "id": "_dVP1oW8GtuN"
      },
      "execution_count": null,
      "outputs": []
    },
    {
      "cell_type": "code",
      "source": [
        "#Substituir o valor das colunas de valores de nulo para zero\n",
        "df['valor_liquidado'].fillna(0, inplace=True)\n",
        "df['valor_arrecadado'].fillna(0, inplace=True)"
      ],
      "metadata": {
        "id": "HwSK3-LRP_D1"
      },
      "execution_count": null,
      "outputs": []
    },
    {
      "cell_type": "code",
      "source": [
        "#10 maiores tipos de despesas\n",
        "df_tipo_de_depesa = df.groupby('tipo_de_depesa')['valor_liquidado'].sum()\n",
        "df_tipo_de_depesa = df_tipo_de_depesa.sort_values(ascending=False)\n",
        "df_tipo_de_depesa = pd.DataFrame(df_tipo_de_depesa)\n",
        "df_tipo_de_depesa.head(10)"
      ],
      "metadata": {
        "colab": {
          "base_uri": "https://localhost:8080/",
          "height": 394
        },
        "id": "LyzOMAEs3y0b",
        "outputId": "996662df-77eb-41f3-c15a-4c3ed90d0ee2"
      },
      "execution_count": null,
      "outputs": [
        {
          "output_type": "execute_result",
          "data": {
            "text/plain": [
              "                                                    valor_liquidado\n",
              "tipo_de_depesa                                                     \n",
              "33408110 - TRANSFERENCIA A MUNICIPIOS-ICMS             3.709222e+10\n",
              "31901111 - PESSOAL CIVIL PAGO PELO DDPE                2.437962e+10\n",
              "31911302 - CONTRIB ESTADO P/COBERTURA INSUF FIN...     2.206774e+10\n",
              "31900111 - INATIVOS-RPPS                               1.649114e+10\n",
              "31901112 - PESSOAL CIVIL PAGO PELA UNIDADE             1.168936e+10\n",
              "32902110 - JUROS SOBRE A DIVIDA POR CONTRATO           1.111569e+10\n",
              "33408120 - TRANSFERENCIA A MUNICIPIOS-IPVA             8.439019e+09\n",
              "33904117 - CONTRIBUICOES AO FUNDEB                     8.062501e+09\n",
              "31911301 - CONTRIB PATRONAL-SAO PAULO PREVIDENC...     7.198729e+09\n",
              "33903975 - CONTRATOS DE GESTAO-LEI COMPL.846/98...     6.122090e+09"
            ],
            "text/html": [
              "\n",
              "  <div id=\"df-ddbc0421-956f-4af0-b8a4-0ec4162fb632\" class=\"colab-df-container\">\n",
              "    <div>\n",
              "<style scoped>\n",
              "    .dataframe tbody tr th:only-of-type {\n",
              "        vertical-align: middle;\n",
              "    }\n",
              "\n",
              "    .dataframe tbody tr th {\n",
              "        vertical-align: top;\n",
              "    }\n",
              "\n",
              "    .dataframe thead th {\n",
              "        text-align: right;\n",
              "    }\n",
              "</style>\n",
              "<table border=\"1\" class=\"dataframe\">\n",
              "  <thead>\n",
              "    <tr style=\"text-align: right;\">\n",
              "      <th></th>\n",
              "      <th>valor_liquidado</th>\n",
              "    </tr>\n",
              "    <tr>\n",
              "      <th>tipo_de_depesa</th>\n",
              "      <th></th>\n",
              "    </tr>\n",
              "  </thead>\n",
              "  <tbody>\n",
              "    <tr>\n",
              "      <th>33408110 - TRANSFERENCIA A MUNICIPIOS-ICMS</th>\n",
              "      <td>3.709222e+10</td>\n",
              "    </tr>\n",
              "    <tr>\n",
              "      <th>31901111 - PESSOAL CIVIL PAGO PELO DDPE</th>\n",
              "      <td>2.437962e+10</td>\n",
              "    </tr>\n",
              "    <tr>\n",
              "      <th>31911302 - CONTRIB ESTADO P/COBERTURA INSUF FIN-SPPREV</th>\n",
              "      <td>2.206774e+10</td>\n",
              "    </tr>\n",
              "    <tr>\n",
              "      <th>31900111 - INATIVOS-RPPS</th>\n",
              "      <td>1.649114e+10</td>\n",
              "    </tr>\n",
              "    <tr>\n",
              "      <th>31901112 - PESSOAL CIVIL PAGO PELA UNIDADE</th>\n",
              "      <td>1.168936e+10</td>\n",
              "    </tr>\n",
              "    <tr>\n",
              "      <th>32902110 - JUROS SOBRE A DIVIDA POR CONTRATO</th>\n",
              "      <td>1.111569e+10</td>\n",
              "    </tr>\n",
              "    <tr>\n",
              "      <th>33408120 - TRANSFERENCIA A MUNICIPIOS-IPVA</th>\n",
              "      <td>8.439019e+09</td>\n",
              "    </tr>\n",
              "    <tr>\n",
              "      <th>33904117 - CONTRIBUICOES AO FUNDEB</th>\n",
              "      <td>8.062501e+09</td>\n",
              "    </tr>\n",
              "    <tr>\n",
              "      <th>31911301 - CONTRIB PATRONAL-SAO PAULO PREVIDENCIA-SPPRE</th>\n",
              "      <td>7.198729e+09</td>\n",
              "    </tr>\n",
              "    <tr>\n",
              "      <th>33903975 - CONTRATOS DE GESTAO-LEI COMPL.846/98 ALT.POS</th>\n",
              "      <td>6.122090e+09</td>\n",
              "    </tr>\n",
              "  </tbody>\n",
              "</table>\n",
              "</div>\n",
              "    <div class=\"colab-df-buttons\">\n",
              "\n",
              "  <div class=\"colab-df-container\">\n",
              "    <button class=\"colab-df-convert\" onclick=\"convertToInteractive('df-ddbc0421-956f-4af0-b8a4-0ec4162fb632')\"\n",
              "            title=\"Convert this dataframe to an interactive table.\"\n",
              "            style=\"display:none;\">\n",
              "\n",
              "  <svg xmlns=\"http://www.w3.org/2000/svg\" height=\"24px\" viewBox=\"0 -960 960 960\">\n",
              "    <path d=\"M120-120v-720h720v720H120Zm60-500h600v-160H180v160Zm220 220h160v-160H400v160Zm0 220h160v-160H400v160ZM180-400h160v-160H180v160Zm440 0h160v-160H620v160ZM180-180h160v-160H180v160Zm440 0h160v-160H620v160Z\"/>\n",
              "  </svg>\n",
              "    </button>\n",
              "\n",
              "  <style>\n",
              "    .colab-df-container {\n",
              "      display:flex;\n",
              "      gap: 12px;\n",
              "    }\n",
              "\n",
              "    .colab-df-convert {\n",
              "      background-color: #E8F0FE;\n",
              "      border: none;\n",
              "      border-radius: 50%;\n",
              "      cursor: pointer;\n",
              "      display: none;\n",
              "      fill: #1967D2;\n",
              "      height: 32px;\n",
              "      padding: 0 0 0 0;\n",
              "      width: 32px;\n",
              "    }\n",
              "\n",
              "    .colab-df-convert:hover {\n",
              "      background-color: #E2EBFA;\n",
              "      box-shadow: 0px 1px 2px rgba(60, 64, 67, 0.3), 0px 1px 3px 1px rgba(60, 64, 67, 0.15);\n",
              "      fill: #174EA6;\n",
              "    }\n",
              "\n",
              "    .colab-df-buttons div {\n",
              "      margin-bottom: 4px;\n",
              "    }\n",
              "\n",
              "    [theme=dark] .colab-df-convert {\n",
              "      background-color: #3B4455;\n",
              "      fill: #D2E3FC;\n",
              "    }\n",
              "\n",
              "    [theme=dark] .colab-df-convert:hover {\n",
              "      background-color: #434B5C;\n",
              "      box-shadow: 0px 1px 3px 1px rgba(0, 0, 0, 0.15);\n",
              "      filter: drop-shadow(0px 1px 2px rgba(0, 0, 0, 0.3));\n",
              "      fill: #FFFFFF;\n",
              "    }\n",
              "  </style>\n",
              "\n",
              "    <script>\n",
              "      const buttonEl =\n",
              "        document.querySelector('#df-ddbc0421-956f-4af0-b8a4-0ec4162fb632 button.colab-df-convert');\n",
              "      buttonEl.style.display =\n",
              "        google.colab.kernel.accessAllowed ? 'block' : 'none';\n",
              "\n",
              "      async function convertToInteractive(key) {\n",
              "        const element = document.querySelector('#df-ddbc0421-956f-4af0-b8a4-0ec4162fb632');\n",
              "        const dataTable =\n",
              "          await google.colab.kernel.invokeFunction('convertToInteractive',\n",
              "                                                    [key], {});\n",
              "        if (!dataTable) return;\n",
              "\n",
              "        const docLinkHtml = 'Like what you see? Visit the ' +\n",
              "          '<a target=\"_blank\" href=https://colab.research.google.com/notebooks/data_table.ipynb>data table notebook</a>'\n",
              "          + ' to learn more about interactive tables.';\n",
              "        element.innerHTML = '';\n",
              "        dataTable['output_type'] = 'display_data';\n",
              "        await google.colab.output.renderOutput(dataTable, element);\n",
              "        const docLink = document.createElement('div');\n",
              "        docLink.innerHTML = docLinkHtml;\n",
              "        element.appendChild(docLink);\n",
              "      }\n",
              "    </script>\n",
              "  </div>\n",
              "\n",
              "\n",
              "<div id=\"df-5fdc4ea1-7bef-40aa-833d-9bb3618a5567\">\n",
              "  <button class=\"colab-df-quickchart\" onclick=\"quickchart('df-5fdc4ea1-7bef-40aa-833d-9bb3618a5567')\"\n",
              "            title=\"Suggest charts\"\n",
              "            style=\"display:none;\">\n",
              "\n",
              "<svg xmlns=\"http://www.w3.org/2000/svg\" height=\"24px\"viewBox=\"0 0 24 24\"\n",
              "     width=\"24px\">\n",
              "    <g>\n",
              "        <path d=\"M19 3H5c-1.1 0-2 .9-2 2v14c0 1.1.9 2 2 2h14c1.1 0 2-.9 2-2V5c0-1.1-.9-2-2-2zM9 17H7v-7h2v7zm4 0h-2V7h2v10zm4 0h-2v-4h2v4z\"/>\n",
              "    </g>\n",
              "</svg>\n",
              "  </button>\n",
              "\n",
              "<style>\n",
              "  .colab-df-quickchart {\n",
              "      --bg-color: #E8F0FE;\n",
              "      --fill-color: #1967D2;\n",
              "      --hover-bg-color: #E2EBFA;\n",
              "      --hover-fill-color: #174EA6;\n",
              "      --disabled-fill-color: #AAA;\n",
              "      --disabled-bg-color: #DDD;\n",
              "  }\n",
              "\n",
              "  [theme=dark] .colab-df-quickchart {\n",
              "      --bg-color: #3B4455;\n",
              "      --fill-color: #D2E3FC;\n",
              "      --hover-bg-color: #434B5C;\n",
              "      --hover-fill-color: #FFFFFF;\n",
              "      --disabled-bg-color: #3B4455;\n",
              "      --disabled-fill-color: #666;\n",
              "  }\n",
              "\n",
              "  .colab-df-quickchart {\n",
              "    background-color: var(--bg-color);\n",
              "    border: none;\n",
              "    border-radius: 50%;\n",
              "    cursor: pointer;\n",
              "    display: none;\n",
              "    fill: var(--fill-color);\n",
              "    height: 32px;\n",
              "    padding: 0;\n",
              "    width: 32px;\n",
              "  }\n",
              "\n",
              "  .colab-df-quickchart:hover {\n",
              "    background-color: var(--hover-bg-color);\n",
              "    box-shadow: 0 1px 2px rgba(60, 64, 67, 0.3), 0 1px 3px 1px rgba(60, 64, 67, 0.15);\n",
              "    fill: var(--button-hover-fill-color);\n",
              "  }\n",
              "\n",
              "  .colab-df-quickchart-complete:disabled,\n",
              "  .colab-df-quickchart-complete:disabled:hover {\n",
              "    background-color: var(--disabled-bg-color);\n",
              "    fill: var(--disabled-fill-color);\n",
              "    box-shadow: none;\n",
              "  }\n",
              "\n",
              "  .colab-df-spinner {\n",
              "    border: 2px solid var(--fill-color);\n",
              "    border-color: transparent;\n",
              "    border-bottom-color: var(--fill-color);\n",
              "    animation:\n",
              "      spin 1s steps(1) infinite;\n",
              "  }\n",
              "\n",
              "  @keyframes spin {\n",
              "    0% {\n",
              "      border-color: transparent;\n",
              "      border-bottom-color: var(--fill-color);\n",
              "      border-left-color: var(--fill-color);\n",
              "    }\n",
              "    20% {\n",
              "      border-color: transparent;\n",
              "      border-left-color: var(--fill-color);\n",
              "      border-top-color: var(--fill-color);\n",
              "    }\n",
              "    30% {\n",
              "      border-color: transparent;\n",
              "      border-left-color: var(--fill-color);\n",
              "      border-top-color: var(--fill-color);\n",
              "      border-right-color: var(--fill-color);\n",
              "    }\n",
              "    40% {\n",
              "      border-color: transparent;\n",
              "      border-right-color: var(--fill-color);\n",
              "      border-top-color: var(--fill-color);\n",
              "    }\n",
              "    60% {\n",
              "      border-color: transparent;\n",
              "      border-right-color: var(--fill-color);\n",
              "    }\n",
              "    80% {\n",
              "      border-color: transparent;\n",
              "      border-right-color: var(--fill-color);\n",
              "      border-bottom-color: var(--fill-color);\n",
              "    }\n",
              "    90% {\n",
              "      border-color: transparent;\n",
              "      border-bottom-color: var(--fill-color);\n",
              "    }\n",
              "  }\n",
              "</style>\n",
              "\n",
              "  <script>\n",
              "    async function quickchart(key) {\n",
              "      const quickchartButtonEl =\n",
              "        document.querySelector('#' + key + ' button');\n",
              "      quickchartButtonEl.disabled = true;  // To prevent multiple clicks.\n",
              "      quickchartButtonEl.classList.add('colab-df-spinner');\n",
              "      try {\n",
              "        const charts = await google.colab.kernel.invokeFunction(\n",
              "            'suggestCharts', [key], {});\n",
              "      } catch (error) {\n",
              "        console.error('Error during call to suggestCharts:', error);\n",
              "      }\n",
              "      quickchartButtonEl.classList.remove('colab-df-spinner');\n",
              "      quickchartButtonEl.classList.add('colab-df-quickchart-complete');\n",
              "    }\n",
              "    (() => {\n",
              "      let quickchartButtonEl =\n",
              "        document.querySelector('#df-5fdc4ea1-7bef-40aa-833d-9bb3618a5567 button');\n",
              "      quickchartButtonEl.style.display =\n",
              "        google.colab.kernel.accessAllowed ? 'block' : 'none';\n",
              "    })();\n",
              "  </script>\n",
              "</div>\n",
              "\n",
              "    </div>\n",
              "  </div>\n"
            ],
            "application/vnd.google.colaboratory.intrinsic+json": {
              "type": "dataframe",
              "variable_name": "df_tipo_de_depesa",
              "summary": "{\n  \"name\": \"df_tipo_de_depesa\",\n  \"rows\": 448,\n  \"fields\": [\n    {\n      \"column\": \"valor_liquidado\",\n      \"properties\": {\n        \"dtype\": \"number\",\n        \"std\": 2716248354.264981,\n        \"min\": 0.0,\n        \"max\": 37092224874.89,\n        \"samples\": [\n          8222354.02,\n          6584694.49,\n          158461877.26\n        ],\n        \"num_unique_values\": 448,\n        \"semantic_type\": \"\",\n        \"description\": \"\"\n      }\n    }\n  ]\n}"
            }
          },
          "metadata": {},
          "execution_count": 51
        }
      ]
    },
    {
      "cell_type": "code",
      "source": [
        "#10 maiores fontes de recursos\n",
        "df_fonte_de_recursos = df.groupby('fonte_de_recursos')['valor_arrecadado'].sum()\n",
        "df_fonte_de_recursos = df_fonte_de_recursos.sort_values(ascending=False)\n",
        "df_fonte_de_recursos = pd.DataFrame(df_fonte_de_recursos)\n",
        "print(df_fonte_de_recursos.head(10))"
      ],
      "metadata": {
        "colab": {
          "base_uri": "https://localhost:8080/"
        },
        "id": "USvGBHP7xBTm",
        "outputId": "00e15657-9658-49dc-a66e-84c9ec2c4d47"
      },
      "execution_count": null,
      "outputs": [
        {
          "output_type": "stream",
          "name": "stdout",
          "text": [
            "                                                    valor_arrecadado\n",
            "fonte_de_recursos                                                   \n",
            "001 - TESOURO-DOT.INICIAL E CRED.SUPLEMENTAR            1.453593e+11\n",
            "002 - RECURSOS VINCULADOS ESTADUAIS                     5.183825e+10\n",
            "081 - TESOURO-DOT.INICIAL E CRED.SUPLEMENTAR-INTRA      3.094750e+10\n",
            "004 - REC.PROPRIO-ADM.IND.-DOT.INIC.CR.SUPL.            1.087912e+10\n",
            "005 - RECURSOS VINCULADOS FEDERAIS                      8.585541e+09\n",
            "003 - RECURSOS VINCULADOS-FUNDO ESPECIAL DE DESPES      5.443589e+09\n",
            "007 - OP.CRED.E CONTRIB.DO EXTERIOR-DOT.INIC.CR.SU      2.382563e+09\n",
            "006 - OUTRAS FONTES DE RECURSOS                         1.091692e+09\n",
            "082 - RECURSOS VINCULADOS ESTADUAIS-INTRA               4.061703e+08\n",
            "085 - RECURSOS VINCULADOS FEDERAIS-INTRA                2.258044e+08\n"
          ]
        }
      ]
    },
    {
      "cell_type": "code",
      "source": [
        "#Criando arquivo de conexão json no BQ\n",
        "key_path = \"abc.json\"\n",
        "credentials = service_account.Credentials.from_service_account_file(key_path, scopes=[\"https://www.googleapis.com/auth/cloud-platform\"])"
      ],
      "metadata": {
        "id": "hqy1ztjZ2ZGq"
      },
      "execution_count": null,
      "outputs": []
    },
    {
      "cell_type": "code",
      "source": [
        "#enviando a junção das tabelas \"df\" para o BQ\n",
        "df.to_gbq(credentials=credentials,\n",
        "          destination_table='teste.df',\n",
        "          if_exists='replace')"
      ],
      "metadata": {
        "colab": {
          "base_uri": "https://localhost:8080/"
        },
        "id": "mrEREB637sFz",
        "outputId": "7995a3b5-7382-4a6e-881c-82ba79e0a928"
      },
      "execution_count": null,
      "outputs": [
        {
          "output_type": "stream",
          "name": "stderr",
          "text": [
            "100%|██████████| 1/1 [00:00<00:00, 6278.90it/s]\n"
          ]
        }
      ]
    },
    {
      "cell_type": "code",
      "source": [
        "#enviando tabela com os as 10 maiores fontes de recurso para o BQ\n",
        "df_fonte_de_recursos.to_gbq(credentials=credentials,\n",
        "          destination_table='teste.dez_maiores_fontes_recursos',\n",
        "          if_exists='replace')"
      ],
      "metadata": {
        "colab": {
          "base_uri": "https://localhost:8080/"
        },
        "id": "H1eJOtBTtRZQ",
        "outputId": "1b0c207f-083a-4a67-d025-1cb6c90a678f"
      },
      "execution_count": null,
      "outputs": [
        {
          "output_type": "stream",
          "name": "stderr",
          "text": [
            "100%|██████████| 1/1 [00:00<00:00, 1490.51it/s]\n"
          ]
        }
      ]
    },
    {
      "cell_type": "code",
      "source": [
        "#enviando tabela com os as 10 maiores fontes de recurso para o BQ\n",
        "df_tipo_de_depesa.to_gbq(credentials=credentials,\n",
        "          destination_table='teste.dez_maiores_despesas',\n",
        "          if_exists='replace')"
      ],
      "metadata": {
        "colab": {
          "base_uri": "https://localhost:8080/"
        },
        "id": "g5F3yp6GuB5u",
        "outputId": "5d6f3829-631c-4826-aa10-fb4305d70ac5"
      },
      "execution_count": null,
      "outputs": [
        {
          "output_type": "stream",
          "name": "stderr",
          "text": [
            "100%|██████████| 1/1 [00:00<00:00, 1888.48it/s]\n"
          ]
        }
      ]
    },
    {
      "cell_type": "code",
      "source": [
        "#teste de função\n",
        "def load_data(df_name):\n",
        "  dataFrame = df_name\n",
        "  dataFrame.to_gbq(credentials=credentials,\n",
        "          destination_table='teste.df',\n",
        "          if_exists='replace')\n"
      ],
      "metadata": {
        "id": "s5yU8iLJ0AlU"
      },
      "execution_count": null,
      "outputs": []
    },
    {
      "cell_type": "code",
      "source": [
        "from datetime import datetime\n",
        "from airflow import DAG\n",
        "from airflow.operators.python_operator import PythonOperator\n",
        "from airflow.operators.empty import EmptyOperator\n",
        "from airflow.operators.bash_operator import BashOperator\n",
        "\n",
        "with DAG(\n",
        "    dag_id=\"etl_dag\",\n",
        "    start_date=datetime(2024, 2, 15),\n",
        "    schedule_interval='@daily'\n",
        ") as dag:\n",
        "\n",
        "    tarefa_1 = EmptyOperator(task_id = 'tarefa_1')\n",
        "    tarefa_2 = EmptyOperator(task_id = 'tarefa_2')\n",
        "    tarefa_3 = EmptyOperator(task_id = 'tarefa_3')\n",
        "    tarefa_4 = EmptyOperator(task_id = 'tarefa_4')\n",
        "\n",
        "    tarefa_1 >> [tarefa_2, tarefa_3]\n",
        "    tarefa_3>> tarefa_4"
      ],
      "metadata": {
        "id": "PVRrZRmARNK2"
      },
      "execution_count": null,
      "outputs": []
    },
    {
      "cell_type": "code",
      "source": [
        "load_data(df)"
      ],
      "metadata": {
        "colab": {
          "base_uri": "https://localhost:8080/"
        },
        "id": "NeA9GV7RLxIl",
        "outputId": "0959c7da-e22c-4c4c-8291-d34a050df3f1"
      },
      "execution_count": null,
      "outputs": [
        {
          "output_type": "stream",
          "name": "stderr",
          "text": [
            "100%|██████████| 1/1 [00:00<00:00, 7810.62it/s]\n"
          ]
        }
      ]
    },
    {
      "cell_type": "code",
      "source": [
        "#codigo completo\n",
        "from airflow import DAG\n",
        "from airflow.operators.python import PythonOperator\n",
        "from datetime import datetime\n",
        "\n",
        "default_args = {\n",
        "    'owner': 'airflow',\n",
        "    'start_date': datetime(2024, 2, 15),\n",
        "    'schedule_interval': '@daily'\n",
        "}\n",
        "\n",
        "with DAG('processamento_dados_bigquery', default_args=default_args) as dag:\n",
        "\n",
        "    def extract_data():\n",
        "            # Abrir os arquivos CSV e detectar a codificação\n",
        "    with open(\"/content/gdvDespesasExcel.csv\", \"rb\") as f:\n",
        "        encoding_despesas = chardet.detect(f.read())[\"encoding\"]\n",
        "    with open(\"/content/gdvReceitasExcel.csv\", \"rb\") as f:\n",
        "        encoding_receita = chardet.detect(f.read())[\"encoding\"]\n",
        "\n",
        "    # Ler os dados dos arquivos CSV\n",
        "    despesas = pd.read_csv(\"/content/gdvDespesasExcel.csv\", encoding=encoding_despesas)\n",
        "    receita = pd.read_csv(\"/content/gdvReceitasExcel.csv\", encoding=encoding_receita)\n",
        "\n",
        "    # Selecionar as colunas relevantes\n",
        "    despesas = despesas[[\"Fonte de Recursos\", \"Despesa\", \"Liquidado\"]]\n",
        "    receita = receita[[\"Fonte de Recursos\", \"Arrecadado até 02/02/2024\"]]\n",
        "\n",
        "    # Renomear as colunas\n",
        "    despesas = despesas.rename(columns={\"Fonte de Recursos\": \"fonte_de_recursos\",\n",
        "                                       \"Despesa\": \"tipo_de_depesa\",\n",
        "                                       \"Liquidado\": \"valor_liquidado\"})\n",
        "    receita = receita.rename(columns={\"Fonte de Recursos\": \"fonte_de_recursos\",\n",
        "                                       \"Arrecadado até 02/02/2024\": \"valor_arrecadado\"})\n",
        "\n",
        "    # Remover valores NaN da coluna \"fonte_de_recursos\"\n",
        "    despesas = despesas.dropna(subset=['fonte_de_recursos'])\n",
        "    receita = receita.dropna(subset=['fonte_de_recursos'])\n",
        "\n",
        "    # Retornar os DataFrames\n",
        "    return despesas, receita\n",
        "\n",
        "    def transform_data(despesas, receita):\n",
        "        # Código para transformar os dados (limpar, formatar, etc.)\n",
        "            # Remover valores NaN das colunas de valores\n",
        "    despesas['valor_liquidado'].fillna(0, inplace=True)\n",
        "    receita['valor_arrecadado'].fillna(0, inplace=True)\n",
        "\n",
        "    # Formatar os valores para ter apenas duas casas decimais\n",
        "    despesas['valor_liquidado'] = round(despesas['valor_liquidado'], 2)\n",
        "    receita['valor_arrecadado'] = round(receita['valor_arrecadado'], 2)\n",
        "\n",
        "    # Substituir o valor \"N/A\" na coluna \"tipo_de_depesa\" por \"Outros\"\n",
        "    despesas['tipo_de_depesa'].replace('N/A', 'Outros', inplace=True)\n",
        "\n",
        "    # Combinar as tabelas\n",
        "    df = pd.concat([despesas, receita])\n",
        "\n",
        "    # Retornar o DataFrame\n",
        "    return df\n",
        "\n",
        "    def load_data(df):\n",
        "        #     # Criando arquivo de conexão json no BQ\n",
        "    key_path = \"abc.json\"\n",
        "    credentials = service_account.Credentials.from_service_account_file(key_path, scopes=[\"https://www.googleapis.com/auth/cloud-platform\"])\n",
        "\n",
        "    def load_data(df_name):\n",
        "  dataFrame = df_name\n",
        "  dataFrame.to_gbq(credentials=credentials,\n",
        "          destination_table='teste.df',\n",
        "          if_exists='replace')\n",
        "\n",
        "    extract_data_task = PythonOperator(\n",
        "        task_id='extract_data',\n",
        "        python_callable=extract_data\n",
        "    )\n",
        "\n",
        "    transform_data_task = PythonOperator(\n",
        "        task_id='transform_data',\n",
        "        python_callable=transform_data\n",
        "    )\n",
        "\n",
        "    load_data_task = PythonOperator(\n",
        "        task_id='load_data',\n",
        "        python_callable=load_data\n",
        "    )\n",
        "\n",
        "    extract_data_task >> transform_data_task >> load_data_task\n"
      ],
      "metadata": {
        "id": "QPpD3Uxztl2z"
      },
      "execution_count": null,
      "outputs": []
    },
    {
      "cell_type": "code",
      "source": [
        "def download_file():\n",
        "    # Lista de URLs dos arquivos\n",
        "    urls = [\n",
        "        'https://github.com/edson-onishi/arquivos/raw/main/gdvDespesasExcel.csv',\n",
        "        'https://github.com/edson-onishi/arquivos/raw/main/gdvReceitasExcel.csv',\n",
        "    ]\n",
        "    # Nomes dos arquivos a serem salvos\n",
        "    filenames = ['gdvDespesasExcel.csv', 'gdvReceitasExcel.csv']\n",
        "\n",
        "    for url, filename in zip(urls, filenames):\n",
        "        # Baixa o arquivo\n",
        "        response = rq.urlretrieve(url, filename)"
      ],
      "metadata": {
        "id": "EqAEkJnlf3M1"
      },
      "execution_count": null,
      "outputs": []
    },
    {
      "cell_type": "code",
      "source": [
        "download_file()"
      ],
      "metadata": {
        "id": "-p-Ts2glNIrt"
      },
      "execution_count": 6,
      "outputs": []
    },
    {
      "cell_type": "code",
      "source": [
        "with open('gdvDespesasExcel.csv', \"rb\") as f:\n",
        "  encoding = chardet.detect(f.read())[\"encoding\"]"
      ],
      "metadata": {
        "id": "wtXDyx06htKr",
        "colab": {
          "base_uri": "https://localhost:8080/",
          "height": 159
        },
        "outputId": "b1a1ce52-8d2f-48ff-b077-fb89edeeb8b1"
      },
      "execution_count": null,
      "outputs": [
        {
          "output_type": "error",
          "ename": "FileNotFoundError",
          "evalue": "[Errno 2] No such file or directory: 'gdvDespesasExcel.csv'",
          "traceback": [
            "\u001b[0;31m---------------------------------------------------------------------------\u001b[0m",
            "\u001b[0;31mFileNotFoundError\u001b[0m                         Traceback (most recent call last)",
            "\u001b[0;32m<ipython-input-2-20a0ad597d5f>\u001b[0m in \u001b[0;36m<cell line: 1>\u001b[0;34m()\u001b[0m\n\u001b[0;32m----> 1\u001b[0;31m \u001b[0;32mwith\u001b[0m \u001b[0mopen\u001b[0m\u001b[0;34m(\u001b[0m\u001b[0;34m'gdvDespesasExcel.csv'\u001b[0m\u001b[0;34m,\u001b[0m \u001b[0;34m\"rb\"\u001b[0m\u001b[0;34m)\u001b[0m \u001b[0;32mas\u001b[0m \u001b[0mf\u001b[0m\u001b[0;34m:\u001b[0m\u001b[0;34m\u001b[0m\u001b[0;34m\u001b[0m\u001b[0m\n\u001b[0m\u001b[1;32m      2\u001b[0m   \u001b[0mencoding\u001b[0m \u001b[0;34m=\u001b[0m \u001b[0mchardet\u001b[0m\u001b[0;34m.\u001b[0m\u001b[0mdetect\u001b[0m\u001b[0;34m(\u001b[0m\u001b[0mf\u001b[0m\u001b[0;34m.\u001b[0m\u001b[0mread\u001b[0m\u001b[0;34m(\u001b[0m\u001b[0;34m)\u001b[0m\u001b[0;34m)\u001b[0m\u001b[0;34m[\u001b[0m\u001b[0;34m\"encoding\"\u001b[0m\u001b[0;34m]\u001b[0m\u001b[0;34m\u001b[0m\u001b[0;34m\u001b[0m\u001b[0m\n",
            "\u001b[0;31mFileNotFoundError\u001b[0m: [Errno 2] No such file or directory: 'gdvDespesasExcel.csv'"
          ]
        }
      ]
    }
  ]
}